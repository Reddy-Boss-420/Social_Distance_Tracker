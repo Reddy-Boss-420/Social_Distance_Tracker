{
 "cells": [
  {
   "cell_type": "code",
   "execution_count": 1,
   "id": "a3567323-e92f-4d54-ab8e-674cace46994",
   "metadata": {
    "tags": []
   },
   "outputs": [],
   "source": [
    "import jetson.inference\n",
    "import jetson.utils\n",
    "import ipywidgets \n",
    "from IPython.display import display\n",
    "import cv2\n",
    "import math\n",
    "from itertools import combinations\n",
    "from jetcam.utils import bgr8_to_jpeg as col\n",
    "import numpy as np\n",
    "\n",
    "\n",
    "\n"
   ]
  },
  {
   "cell_type": "code",
   "execution_count": 3,
   "id": "068c82d0-a2c7-44e6-b8a9-c7a91fe19ed6",
   "metadata": {},
   "outputs": [],
   "source": [
    "# load mono depth network\n",
    "net = jetson.inference.depthNet()\n",
    "\n",
    "# depthNet re-uses the same memory for the depth field,\n",
    "# so you only need to do this once (not every frame)\n",
    "depth_field = net.GetDepthField()\n",
    "\n",
    "# cudaToNumpy() will map the depth field cudaImage to numpy\n",
    "# this mapping is persistent, so you only need to do it once\n",
    "depth_numpy = jetson.utils.cudaToNumpy(depth_field)"
   ]
  },
  {
   "cell_type": "code",
   "execution_count": 4,
   "id": "5634f5b8-9e14-4c84-b813-0f1e562f0e38",
   "metadata": {},
   "outputs": [],
   "source": [
    "camera = jetson.utils.videoSource(\"/dev/video0\")   "
   ]
  },
  {
   "cell_type": "code",
   "execution_count": 5,
   "id": "7420e90b-d70e-46ac-b6de-ce6ae966bd54",
   "metadata": {},
   "outputs": [],
   "source": [
    "dis = jetson.utils.videoOutput(\"display://0\") # 'my_video.mp4' for file"
   ]
  },
  {
   "cell_type": "code",
   "execution_count": 33,
   "id": "04402b6e-f2fc-4463-a996-a6f1a0e71e30",
   "metadata": {},
   "outputs": [
    {
     "data": {
      "application/vnd.jupyter.widget-view+json": {
       "model_id": "871e148f8a8043a98416b46d0ea200f7",
       "version_major": 2,
       "version_minor": 0
      },
      "text/plain": [
       "Image(value=b'\\xff\\xd8\\xff\\xe0\\x00\\x10JFIF\\x00\\x01\\x01\\x00\\x00\\x01\\x00\\x01\\x00\\x00\\xff\\xdb\\x00C\\x00\\x02\\x01\\x0…"
      ]
     },
     "metadata": {},
     "output_type": "display_data"
    }
   ],
   "source": [
    "image_widget = ipywidgets.Image(format = 'jpeg')\n",
    "img = camera.Capture()\n",
    "\n",
    "array = jetson.utils.cudaToNumpy(img)\n",
    "image_widget.value = col(array)\n",
    "display(image_widget)"
   ]
  },
  {
   "cell_type": "code",
   "execution_count": 34,
   "id": "ea0b8f07-d72d-485e-93cb-5a88b54532af",
   "metadata": {
    "tags": []
   },
   "outputs": [
    {
     "ename": "KeyboardInterrupt",
     "evalue": "",
     "output_type": "error",
     "traceback": [
      "\u001b[0;31m---------------------------------------------------------------------------\u001b[0m",
      "\u001b[0;31mKeyboardInterrupt\u001b[0m                         Traceback (most recent call last)",
      "\u001b[0;32m<ipython-input-34-b466af2ec4af>\u001b[0m in \u001b[0;36m<module>\u001b[0;34m\u001b[0m\n\u001b[1;32m      5\u001b[0m     \u001b[0mjetson\u001b[0m\u001b[0;34m.\u001b[0m\u001b[0mutils\u001b[0m\u001b[0;34m.\u001b[0m\u001b[0mcudaDeviceSynchronize\u001b[0m\u001b[0;34m(\u001b[0m\u001b[0;34m)\u001b[0m \u001b[0;31m# wait for GPU to finish processing, so we can use the results on CPU\u001b[0m\u001b[0;34m\u001b[0m\u001b[0;34m\u001b[0m\u001b[0m\n\u001b[1;32m      6\u001b[0m     \u001b[0marray\u001b[0m \u001b[0;34m=\u001b[0m \u001b[0mjetson\u001b[0m\u001b[0;34m.\u001b[0m\u001b[0mutils\u001b[0m\u001b[0;34m.\u001b[0m\u001b[0mcudaToNumpy\u001b[0m\u001b[0;34m(\u001b[0m\u001b[0mimg\u001b[0m\u001b[0;34m)\u001b[0m\u001b[0;34m\u001b[0m\u001b[0;34m\u001b[0m\u001b[0m\n\u001b[0;32m----> 7\u001b[0;31m     \u001b[0mimage_widget\u001b[0m\u001b[0;34m.\u001b[0m\u001b[0mvalue\u001b[0m \u001b[0;34m=\u001b[0m \u001b[0mcol\u001b[0m\u001b[0;34m(\u001b[0m\u001b[0marray\u001b[0m\u001b[0;34m)\u001b[0m\u001b[0;34m\u001b[0m\u001b[0;34m\u001b[0m\u001b[0m\n\u001b[0m\u001b[1;32m      8\u001b[0m     \u001b[0;31m# find the min/max values with numpy\u001b[0m\u001b[0;34m\u001b[0m\u001b[0;34m\u001b[0m\u001b[0;34m\u001b[0m\u001b[0m\n\u001b[1;32m      9\u001b[0m     \u001b[0mmin_depth\u001b[0m \u001b[0;34m=\u001b[0m \u001b[0mnp\u001b[0m\u001b[0;34m.\u001b[0m\u001b[0mamin\u001b[0m\u001b[0;34m(\u001b[0m\u001b[0mdepth_numpy\u001b[0m\u001b[0;34m)\u001b[0m\u001b[0;34m\u001b[0m\u001b[0;34m\u001b[0m\u001b[0m\n",
      "\u001b[0;32m/usr/local/lib/python3.6/dist-packages/jetcam-0.0.0-py3.6.egg/jetcam/utils.py\u001b[0m in \u001b[0;36mbgr8_to_jpeg\u001b[0;34m(value, quality)\u001b[0m\n\u001b[1;32m      3\u001b[0m \u001b[0;34m\u001b[0m\u001b[0m\n\u001b[1;32m      4\u001b[0m \u001b[0;32mdef\u001b[0m \u001b[0mbgr8_to_jpeg\u001b[0m\u001b[0;34m(\u001b[0m\u001b[0mvalue\u001b[0m\u001b[0;34m,\u001b[0m \u001b[0mquality\u001b[0m\u001b[0;34m=\u001b[0m\u001b[0;36m75\u001b[0m\u001b[0;34m)\u001b[0m\u001b[0;34m:\u001b[0m\u001b[0;34m\u001b[0m\u001b[0;34m\u001b[0m\u001b[0m\n\u001b[0;32m----> 5\u001b[0;31m     \u001b[0;32mreturn\u001b[0m \u001b[0mbytes\u001b[0m\u001b[0;34m(\u001b[0m\u001b[0mcv2\u001b[0m\u001b[0;34m.\u001b[0m\u001b[0mimencode\u001b[0m\u001b[0;34m(\u001b[0m\u001b[0;34m'.jpg'\u001b[0m\u001b[0;34m,\u001b[0m \u001b[0mvalue\u001b[0m\u001b[0;34m)\u001b[0m\u001b[0;34m[\u001b[0m\u001b[0;36m1\u001b[0m\u001b[0;34m]\u001b[0m\u001b[0;34m)\u001b[0m\u001b[0;34m\u001b[0m\u001b[0;34m\u001b[0m\u001b[0m\n\u001b[0m",
      "\u001b[0;31mKeyboardInterrupt\u001b[0m: "
     ]
    }
   ],
   "source": [
    "out = None\n",
    "while dis.IsStreaming():\n",
    "    img = camera.Capture()\t# assumes you have created an input videoSource stream\n",
    "    net.Visualize(img)\n",
    "    jetson.utils.cudaDeviceSynchronize() # wait for GPU to finish processing, so we can use the results on CPU\n",
    "    array = jetson.utils.cudaToNumpy(img)\n",
    "    image_widget.value = col(array)\n",
    "    # find the min/max values with numpy\n",
    "    min_depth = np.amin(depth_numpy)\n",
    "    max_depth = np.amax(depth_numpy)"
   ]
  },
  {
   "cell_type": "code",
   "execution_count": 11,
   "id": "ff6e0d25-7642-421d-be31-b6fc7d8e61ae",
   "metadata": {
    "tags": []
   },
   "outputs": [
    {
     "data": {
      "text/plain": [
       "224"
      ]
     },
     "execution_count": 11,
     "metadata": {},
     "output_type": "execute_result"
    }
   ],
   "source": [
    "depth_field.width"
   ]
  },
  {
   "cell_type": "code",
   "execution_count": null,
   "id": "145f422f-c72e-47d7-b566-98e6d7d3df75",
   "metadata": {},
   "outputs": [],
   "source": []
  }
 ],
 "metadata": {
  "kernelspec": {
   "display_name": "Python 3",
   "language": "python",
   "name": "python3"
  },
  "language_info": {
   "codemirror_mode": {
    "name": "ipython",
    "version": 3
   },
   "file_extension": ".py",
   "mimetype": "text/x-python",
   "name": "python",
   "nbconvert_exporter": "python",
   "pygments_lexer": "ipython3",
   "version": "3.6.9"
  }
 },
 "nbformat": 4,
 "nbformat_minor": 5
}
